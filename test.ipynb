{
 "cells": [
  {
   "cell_type": "code",
   "execution_count": 20,
   "metadata": {},
   "outputs": [
    {
     "name": "stdout",
     "output_type": "stream",
     "text": [
      "reading data from file\n",
      "./TMP/mydata_72_12_p_0.001_cycles_2\n"
     ]
    }
   ],
   "source": [
    "import numpy as np\n",
    "import pickle\n",
    "from scipy.sparse import coo_matrix\n",
    "np.set_printoptions(threshold=np.inf)\n",
    "error_rate = 0.001\n",
    "\n",
    "n = 72\n",
    "k = 12\n",
    "d = 6\n",
    "num_cycles = 2\n",
    "\n",
    "\n",
    "# load decoder data from file (must be created with decoder_setup.py)\n",
    "title = './TMP/mydata_' + str(n) + '_' + str(k) + '_p_' + str(error_rate) + '_cycles_' + str(num_cycles) \n",
    "print('reading data from file')\n",
    "print(title)\n",
    "with open(title, 'rb') as fp:\n",
    "\tmydata = pickle.load(fp)\n",
    " \n"
   ]
  },
  {
   "cell_type": "code",
   "execution_count": 21,
   "metadata": {},
   "outputs": [],
   "source": [
    "HdecX = mydata['HdecX']\n",
    "HdecZ = mydata['HdecZ']\n",
    "channel_probsX = mydata['probX']\n",
    "channel_probsZ = mydata['probZ']\n",
    "# lin_order = mydata['lin_order']\n",
    "# assert(mydata['num_cycles']==num_cycles)\n",
    "# data_qubits = mydata['data_qubits']\n",
    "# Xchecks=mydata['Xchecks']\n",
    "# Zchecks=mydata['Zchecks']\n",
    "# cycle = mydata['cycle']\n",
    "# HX = mydata['HX']\n",
    "# HZ = mydata['HZ']\n",
    "# lx = mydata['lx']\n",
    "# lz = mydata['lz']\n",
    "# first_logical_rowZ=mydata['first_logical_rowZ']\n",
    "# first_logical_rowX=mydata['first_logical_rowX']\n",
    "# ell=mydata['ell']\n",
    "# m=mydata['m']\n",
    "# a1=mydata['a1']\n",
    "# a2=mydata['a2']\n",
    "# a3=mydata['a3']\n",
    "# b1=mydata['b1']\n",
    "# b2=mydata['b2']\n",
    "# b3=mydata['b3']\n",
    "# sX=mydata['sX']\n",
    "# sZ=mydata['sZ']\n",
    "# HXdict = mydata['HXdict']\n",
    "# HZdict = mydata['HZdict']\n",
    "# circuitsZ = mydata['circuitsZ']\n",
    "# circuitsX = mydata['circuitsX']\n",
    "# assert(error_rate==mydata['error_rate'])\n",
    "# cycle_repeated = num_cycles*cycle"
   ]
  },
  {
   "cell_type": "code",
   "execution_count": 22,
   "metadata": {},
   "outputs": [],
   "source": [
    "# len(channel_probsZ), HdecX, lz.shape, first_logical_rowX"
   ]
  },
  {
   "cell_type": "code",
   "execution_count": 23,
   "metadata": {},
   "outputs": [
    {
     "name": "stdout",
     "output_type": "stream",
     "text": [
      "reading data from file\n",
      "./CORRECTION/data_72_12_p_0.001_cycles_2_trials_800\n"
     ]
    }
   ],
   "source": [
    "num_trials = 800\n",
    "fname = './CORRECTION/data_' + str(n) + '_' + str(k) + '_p_' + str(error_rate) + '_cycles_' + str(num_cycles) + '_trials_' + str(num_trials)\n",
    "\n",
    "\n",
    "print('reading data from file')\n",
    "print(fname)\n",
    "with open(fname, 'rb') as fp:\n",
    "\terr_syn_data = pickle.load(fp)\n",
    " \n",
    "\n",
    "syndrome_historyX = err_syn_data['syndrome_historyX']\n",
    "syndrome_historyZ = err_syn_data['syndrome_historyZ']\n",
    "errorXs = err_syn_data['errorXs'] \n",
    "errorZs = err_syn_data['errorZs'] \n",
    "\n"
   ]
  },
  {
   "cell_type": "code",
   "execution_count": 24,
   "metadata": {},
   "outputs": [],
   "source": [
    "# import pandas as pd\n",
    "# df = pd.DataFrame(circuitsZ)\n",
    "# df"
   ]
  }
 ],
 "metadata": {
  "kernelspec": {
   "display_name": "myTorch_py311",
   "language": "python",
   "name": "python3"
  },
  "language_info": {
   "codemirror_mode": {
    "name": "ipython",
    "version": 3
   },
   "file_extension": ".py",
   "mimetype": "text/x-python",
   "name": "python",
   "nbconvert_exporter": "python",
   "pygments_lexer": "ipython3",
   "version": "3.11.5"
  }
 },
 "nbformat": 4,
 "nbformat_minor": 2
}
